{
  "nbformat": 4,
  "nbformat_minor": 0,
  "metadata": {
    "colab": {
      "provenance": [],
      "authorship_tag": "ABX9TyMoBOD4eTy4XUa65RI95LcP"
    },
    "kernelspec": {
      "name": "python3",
      "display_name": "Python 3"
    },
    "language_info": {
      "name": "python"
    }
  },
  "cells": [
    {
      "cell_type": "markdown",
      "source": [
        "**Exercício 1**\n",
        "\n",
        "Crie um jogo que embaralhe uma palavra e a mostre ao jogador. O objetivo dele é\n",
        "acertar a palavra em no máximo 5 tentativas. Informe sempre quantas tentativas ele\n",
        "ainda tem. Se ele acertar, dê os parabéns; se errar dê uma palavra de ânimo (de\n",
        "preferência não fixa). Ao final, mostre a palavra correta e o número de tentativas que\n",
        "ele utilizou."
      ],
      "metadata": {
        "id": "LznIpneN4K-T"
      }
    },
    {
      "cell_type": "code",
      "execution_count": 18,
      "metadata": {
        "colab": {
          "base_uri": "https://localhost:8080/",
          "height": 390
        },
        "id": "XHsjPKoB3-o8",
        "outputId": "4b2cd044-8b52-4354-974c-616eff89733a"
      },
      "outputs": [
        {
          "output_type": "stream",
          "name": "stdout",
          "text": [
            "Bem-vindo ao jogo de adivinhação de palavras!\n",
            "A palavra embaralhada é: tyopnh\n"
          ]
        },
        {
          "output_type": "error",
          "ename": "KeyboardInterrupt",
          "evalue": "ignored",
          "traceback": [
            "\u001b[0;31m---------------------------------------------------------------------------\u001b[0m",
            "\u001b[0;31mKeyboardInterrupt\u001b[0m                         Traceback (most recent call last)",
            "\u001b[0;32m<ipython-input-18-3c3925350187>\u001b[0m in \u001b[0;36m<cell line: 34>\u001b[0;34m()\u001b[0m\n\u001b[1;32m     33\u001b[0m \u001b[0;34m\u001b[0m\u001b[0m\n\u001b[1;32m     34\u001b[0m \u001b[0;32mif\u001b[0m \u001b[0m__name__\u001b[0m \u001b[0;34m==\u001b[0m \u001b[0;34m\"__main__\"\u001b[0m\u001b[0;34m:\u001b[0m\u001b[0;34m\u001b[0m\u001b[0;34m\u001b[0m\u001b[0m\n\u001b[0;32m---> 35\u001b[0;31m     \u001b[0mmain\u001b[0m\u001b[0;34m(\u001b[0m\u001b[0;34m)\u001b[0m\u001b[0;34m\u001b[0m\u001b[0;34m\u001b[0m\u001b[0m\n\u001b[0m",
            "\u001b[0;32m<ipython-input-18-3c3925350187>\u001b[0m in \u001b[0;36mmain\u001b[0;34m()\u001b[0m\n\u001b[1;32m     14\u001b[0m \u001b[0;34m\u001b[0m\u001b[0m\n\u001b[1;32m     15\u001b[0m     \u001b[0;32mwhile\u001b[0m \u001b[0mattempts\u001b[0m \u001b[0;34m>\u001b[0m \u001b[0;36m0\u001b[0m\u001b[0;34m:\u001b[0m\u001b[0;34m\u001b[0m\u001b[0;34m\u001b[0m\u001b[0m\n\u001b[0;32m---> 16\u001b[0;31m         \u001b[0mguess\u001b[0m \u001b[0;34m=\u001b[0m \u001b[0minput\u001b[0m\u001b[0;34m(\u001b[0m\u001b[0;34mf\"\\nVocê tem {attempts} tentativas restantes. Qual é a palavra? \"\u001b[0m\u001b[0;34m)\u001b[0m\u001b[0;34m.\u001b[0m\u001b[0mstrip\u001b[0m\u001b[0;34m(\u001b[0m\u001b[0;34m)\u001b[0m\u001b[0;34m.\u001b[0m\u001b[0mlower\u001b[0m\u001b[0;34m(\u001b[0m\u001b[0;34m)\u001b[0m\u001b[0;34m\u001b[0m\u001b[0;34m\u001b[0m\u001b[0m\n\u001b[0m\u001b[1;32m     17\u001b[0m         \u001b[0;32mif\u001b[0m \u001b[0mguess\u001b[0m \u001b[0;34m==\u001b[0m \u001b[0mword_to_guess\u001b[0m\u001b[0;34m:\u001b[0m\u001b[0;34m\u001b[0m\u001b[0;34m\u001b[0m\u001b[0m\n\u001b[1;32m     18\u001b[0m             \u001b[0mprint\u001b[0m\u001b[0;34m(\u001b[0m\u001b[0;34m\"Muito bem! Você acertou a palavra!\"\u001b[0m\u001b[0;34m)\u001b[0m\u001b[0;34m\u001b[0m\u001b[0;34m\u001b[0m\u001b[0m\n",
            "\u001b[0;32m/usr/local/lib/python3.10/dist-packages/ipykernel/kernelbase.py\u001b[0m in \u001b[0;36mraw_input\u001b[0;34m(self, prompt)\u001b[0m\n\u001b[1;32m    849\u001b[0m                 \u001b[0;34m\"raw_input was called, but this frontend does not support input requests.\"\u001b[0m\u001b[0;34m\u001b[0m\u001b[0;34m\u001b[0m\u001b[0m\n\u001b[1;32m    850\u001b[0m             )\n\u001b[0;32m--> 851\u001b[0;31m         return self._input_request(str(prompt),\n\u001b[0m\u001b[1;32m    852\u001b[0m             \u001b[0mself\u001b[0m\u001b[0;34m.\u001b[0m\u001b[0m_parent_ident\u001b[0m\u001b[0;34m,\u001b[0m\u001b[0;34m\u001b[0m\u001b[0;34m\u001b[0m\u001b[0m\n\u001b[1;32m    853\u001b[0m             \u001b[0mself\u001b[0m\u001b[0;34m.\u001b[0m\u001b[0m_parent_header\u001b[0m\u001b[0;34m,\u001b[0m\u001b[0;34m\u001b[0m\u001b[0;34m\u001b[0m\u001b[0m\n",
            "\u001b[0;32m/usr/local/lib/python3.10/dist-packages/ipykernel/kernelbase.py\u001b[0m in \u001b[0;36m_input_request\u001b[0;34m(self, prompt, ident, parent, password)\u001b[0m\n\u001b[1;32m    893\u001b[0m             \u001b[0;32mexcept\u001b[0m \u001b[0mKeyboardInterrupt\u001b[0m\u001b[0;34m:\u001b[0m\u001b[0;34m\u001b[0m\u001b[0;34m\u001b[0m\u001b[0m\n\u001b[1;32m    894\u001b[0m                 \u001b[0;31m# re-raise KeyboardInterrupt, to truncate traceback\u001b[0m\u001b[0;34m\u001b[0m\u001b[0;34m\u001b[0m\u001b[0m\n\u001b[0;32m--> 895\u001b[0;31m                 \u001b[0;32mraise\u001b[0m \u001b[0mKeyboardInterrupt\u001b[0m\u001b[0;34m(\u001b[0m\u001b[0;34m\"Interrupted by user\"\u001b[0m\u001b[0;34m)\u001b[0m \u001b[0;32mfrom\u001b[0m \u001b[0;32mNone\u001b[0m\u001b[0;34m\u001b[0m\u001b[0;34m\u001b[0m\u001b[0m\n\u001b[0m\u001b[1;32m    896\u001b[0m             \u001b[0;32mexcept\u001b[0m \u001b[0mException\u001b[0m \u001b[0;32mas\u001b[0m \u001b[0me\u001b[0m\u001b[0;34m:\u001b[0m\u001b[0;34m\u001b[0m\u001b[0;34m\u001b[0m\u001b[0m\n\u001b[1;32m    897\u001b[0m                 \u001b[0mself\u001b[0m\u001b[0;34m.\u001b[0m\u001b[0mlog\u001b[0m\u001b[0;34m.\u001b[0m\u001b[0mwarning\u001b[0m\u001b[0;34m(\u001b[0m\u001b[0;34m\"Invalid Message:\"\u001b[0m\u001b[0;34m,\u001b[0m \u001b[0mexc_info\u001b[0m\u001b[0;34m=\u001b[0m\u001b[0;32mTrue\u001b[0m\u001b[0;34m)\u001b[0m\u001b[0;34m\u001b[0m\u001b[0;34m\u001b[0m\u001b[0m\n",
            "\u001b[0;31mKeyboardInterrupt\u001b[0m: Interrupted by user"
          ]
        }
      ],
      "source": [
        "import random\n",
        "\n",
        "def shuffle_word(word):\n",
        "    shuffled = list(word)\n",
        "    random.shuffle(shuffled)\n",
        "    return ''.join(shuffled)\n",
        "def main():\n",
        "    word_to_guess = \"python\"\n",
        "    shuffled_word = shuffle_word(word_to_guess)\n",
        "    attempts = 5\n",
        "\n",
        "    print(\"Bem-vindo ao jogo de adivinhação de palavras!\")\n",
        "    print(f\"A palavra embaralhada é: {shuffled_word}\")\n",
        "\n",
        "    while attempts > 0:\n",
        "        guess = input(f\"\\nVocê tem {attempts} tentativas restantes. Qual é a palavra? \").strip().lower()\n",
        "        if guess == word_to_guess:\n",
        "            print(\"Muito bem! Você acertou a palavra!\")\n",
        "            break\n",
        "        else:\n",
        "            attempts -= 1\n",
        "            if attempts == 0:\n",
        "                print(f\"\\nSuas tentativas esgotaram. A palavra correta era: {word_to_guess}\")\n",
        "            else:\n",
        "                encouragement = [\"Não desista!\", \"Quase lá!\", \"Continue tentando!\", \"Você consegue!\"]\n",
        "                print(f\"Incorreto. {random.choice(encouragement)}\")\n",
        "\n",
        "    restart = input('Deseja jogar novamente? (s/n): ')\n",
        "    if restart.lower() == 's':\n",
        "        main()\n",
        "    else:\n",
        "        print('Obrigado por jogar, volte sempre :)')\n",
        "\n",
        "if __name__ == \"__main__\":\n",
        "    main()"
      ]
    },
    {
      "cell_type": "markdown",
      "source": [],
      "metadata": {
        "id": "pUo8a9vX4MfI"
      }
    },
    {
      "cell_type": "code",
      "source": [
        "import random\n",
        "\n",
        "themes = {\n",
        "    \"cidades\": [\"Londrina\", \"Cuiabá\", \"Araquari\", \"Cascavél\", \"Joinville\"],\n",
        "    \"cores\": [\"vermelho\", \"azul\", \"amarelo\", \"verde\", \"roxo\"],\n",
        "    \"times\": [\"Flamengo\", \"Cuiabá\", \"Portuguesa\", \"Vasco\", \"Recife\"],\n",
        "    \"países\": [\"brasil\", \"estados unidos\", \"china\", \"rússia\", \"índia\"],\n",
        "    \"objetos\": [\"telefone\", \"computador\", \"carro\", \"bicicleta\", \"livro\"]\n",
        "}\n",
        "\n",
        "def shuffle_word(word):\n",
        "    return ''.join(random.sample(word, len(word)))\n",
        "\n",
        "def choose_option(options, prompt):\n",
        "    for i, option in enumerate(options, start=1):\n",
        "        print(f\"{i}. {option.capitalize()}\")\n",
        "    choice = input(prompt)\n",
        "    return choice.lower()\n",
        "\n",
        "def main():\n",
        "    theme = choose_option(list(themes.keys()), \"Escolha um tema: \")\n",
        "    words = themes.get(theme, [])\n",
        "\n",
        "    if not words:\n",
        "        print(\"Tema não encontrado. Escolha um tema que seja válido.\")\n",
        "        return\n",
        "\n",
        "    word_to_guess = random.choice(words)\n",
        "    shuffled_word = shuffle_word(word_to_guess)\n",
        "    attempts = 5 if choose_option([\"1. Iniciante\", \"2. Intermediário\", \"3. Avançado\"], \"Escolha um nível de dificuldade: \") == \"iniciante\" else 3\n",
        "\n",
        "    print(\"\\nBem-vindo ao jogo de adivinhação de palavras!\")\n",
        "    print(f\"A palavra embaralhada é: {shuffled_word}\")\n",
        "\n",
        "    while attempts > 0:\n",
        "        guess = input(f\"\\nVocê tem {attempts} tentativas restantes. Qual é a palavra? \").strip().lower()\n",
        "\n",
        "        if guess == word_to_guess:\n",
        "            print(\"Parabéns! Você acertou a palavra!\")\n",
        "            break\n",
        "        else:\n",
        "            attempts -= 1\n",
        "            if attempts == 0:\n",
        "                print(f\"\\nSuas tentativas acabaram. A palavra correta era: {word_to_guess}\")\n",
        "            else:\n",
        "                encouragement = [\"Não desista!\", \"Quase lá!\", \"Continue tentando!\", \"Você consegue!\"]\n",
        "                print(f\"Incorreto. {random.choice(encouragement)}\")\n",
        "\n",
        "    restart = input('Você deseja jogar novamente? (s/n): ')\n",
        "    if restart.lower() == 's':\n",
        "        main()\n",
        "    else:\n",
        "        print('Obrigado por jogar, volte sempre!')\n",
        "\n",
        "if __name__ == \"__main__\":\n",
        "    main()\n"
      ],
      "metadata": {
        "colab": {
          "base_uri": "https://localhost:8080/"
        },
        "id": "9T9Q3Wku4wHr",
        "outputId": "417cb40e-ab0e-4a07-b39d-411908be5dd1"
      },
      "execution_count": null,
      "outputs": [
        {
          "output_type": "stream",
          "name": "stdout",
          "text": [
            "1. Cidades\n",
            "2. Cores\n",
            "3. Times\n",
            "4. Países\n",
            "5. Objetos\n",
            "Escolha um tema: Objetos\n",
            "1. 1. iniciante\n",
            "2. 2. intermediário\n",
            "3. 3. avançado\n",
            "Escolha um nível de dificuldade: iniciante\n",
            "\n",
            "Bem-vindo ao jogo de adivinhação de palavras!\n",
            "A palavra embaralhada é: oupatmocrd\n",
            "\n",
            "Você tem 5 tentativas restantes. Qual é a palavra? computador\n",
            "Parabéns! Você acertou a palavra!\n"
          ]
        }
      ]
    }
  ]
}