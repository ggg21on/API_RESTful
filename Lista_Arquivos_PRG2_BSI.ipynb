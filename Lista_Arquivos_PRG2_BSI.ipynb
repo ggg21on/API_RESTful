{
  "nbformat": 4,
  "nbformat_minor": 0,
  "metadata": {
    "colab": {
      "provenance": [],
      "authorship_tag": "ABX9TyMNw3/jrV+hhYixL4+S440h"
    },
    "kernelspec": {
      "name": "python3",
      "display_name": "Python 3"
    },
    "language_info": {
      "name": "python"
    }
  },
  "cells": [
    {
      "cell_type": "markdown",
      "source": [
        "1. Crie um programa que crie um arquivo chamado \"texto.txt\" e escreva nele o\n",
        "seguinte texto: \"Olá, mundo!\""
      ],
      "metadata": {
        "id": "MYeSQkBEWpIS"
      }
    },
    {
      "cell_type": "code",
      "execution_count": null,
      "metadata": {
        "id": "XHRAYPtRWjOR"
      },
      "outputs": [],
      "source": [
        "# Abrindo o arquivo para escrita\n",
        "with open('texto.txt', 'w') as arquivo:\n",
        "    arquivo.write('Olá, mundo!')"
      ]
    },
    {
      "cell_type": "markdown",
      "source": [
        "2. Crie um programa que leia o conteúdo do arquivo \"texto.txt\" criado no\n",
        "exercício anterior e o exiba no console."
      ],
      "metadata": {
        "id": "US3h2Ls9Y-V-"
      }
    },
    {
      "cell_type": "code",
      "source": [
        "with open('texto.txt', 'r') as arquivo:\n",
        "    conteudo = arquivo.read()\n",
        "print(conteudo)"
      ],
      "metadata": {
        "colab": {
          "base_uri": "https://localhost:8080/"
        },
        "id": "-eflPaSjY9TE",
        "outputId": "84ea7280-8af2-4d6f-a69e-68f43981224d"
      },
      "execution_count": null,
      "outputs": [
        {
          "output_type": "stream",
          "name": "stdout",
          "text": [
            "Olá, mundo!\n"
          ]
        }
      ]
    },
    {
      "cell_type": "markdown",
      "source": [
        "3. Crie um programa que conte e exiba o número de linhas no arquivo\n",
        "\"texto.txt\"."
      ],
      "metadata": {
        "id": "_2O4RHT7ZGiz"
      }
    },
    {
      "cell_type": "code",
      "source": [
        "with open('texto.txt', 'r') as arquivo:\n",
        "    linhas = arquivo.readlines()\n",
        "numero_de_linhas = len(linhas)\n",
        "print('O arquivo \"texto.txt\" contém', numero_de_linhas, 'linhas.')"
      ],
      "metadata": {
        "colab": {
          "base_uri": "https://localhost:8080/"
        },
        "id": "XVtZRr98ZG6B",
        "outputId": "9e764008-6cdf-403a-8a8e-4e10a06014bd"
      },
      "execution_count": null,
      "outputs": [
        {
          "output_type": "stream",
          "name": "stdout",
          "text": [
            "O arquivo \"texto.txt\" contém 1 linhas.\n"
          ]
        }
      ]
    },
    {
      "cell_type": "markdown",
      "source": [
        "4. Crie um programa que copie o conteúdo do arquivo \"texto.txt\" para um novo\n",
        "arquivo chamado \"copia.txt\"."
      ],
      "metadata": {
        "id": "LhPpXNwcZHLe"
      }
    },
    {
      "cell_type": "code",
      "source": [
        "with open('texto.txt', 'r') as arquivo_original:\n",
        "    conteudo = arquivo_original.read()\n",
        "\n",
        "with open('copia.txt', 'w') as arquivo_novo:\n",
        "    arquivo_novo.write(conteudo)"
      ],
      "metadata": {
        "id": "ul8h6lDEZHhF"
      },
      "execution_count": null,
      "outputs": []
    },
    {
      "cell_type": "markdown",
      "source": [
        "5. Crie um programa que leia o conteúdo dos arquivos \"texto.txt\" e\n",
        "\"copia.txt\", e escreva o conteúdo combinado em um terceiro arquivo\n",
        "chamado \"combinado.txt\"."
      ],
      "metadata": {
        "id": "YGzq6P4AZ1Ze"
      }
    },
    {
      "cell_type": "code",
      "source": [
        "with open('texto.txt', 'r') as arquivo1, open('copia.txt', 'r') as arquivo2:\n",
        "    conteudo1 = arquivo1.read()\n",
        "    conteudo2 = arquivo2.read()\n",
        "\n",
        "with open('combinado.txt', 'w') as novo_arquivo:\n",
        "    novo_arquivo.write(conteudo1 + '\\n' + conteudo2)"
      ],
      "metadata": {
        "id": "CJ39AvyVZ-Ft"
      },
      "execution_count": null,
      "outputs": []
    },
    {
      "cell_type": "markdown",
      "source": [
        "6. Crie um programa que conte e exiba o número de palavras no arquivo\n",
        "\"texto.txt\"."
      ],
      "metadata": {
        "id": "JC1cvtvccj7p"
      }
    },
    {
      "cell_type": "code",
      "source": [
        "with open('texto.txt', 'r') as arquivo:\n",
        "    conteudo = arquivo.read()\n",
        "\n",
        "palavras = conteudo.split()\n",
        "\n",
        "numero_de_palavras = len(palavras)\n",
        "print('O arquivo \"texto.txt\" contém', numero_de_palavras, 'palavras.')"
      ],
      "metadata": {
        "id": "yiuowu7ccr2-"
      },
      "execution_count": null,
      "outputs": []
    },
    {
      "cell_type": "markdown",
      "source": [
        "7. Crie um programa que leia o conteúdo do arquivo \"texto.txt\" e substitua\n",
        "todas as ocorrências da palavra \"mundo\" por \"Python\". O novo conteúdo deve ser\n",
        "escrito em um novo arquivo chamado \"modificado.txt\"."
      ],
      "metadata": {
        "id": "GEq7Ac-mc4YG"
      }
    },
    {
      "cell_type": "code",
      "source": [
        "with open('texto.txt', 'r') as arquivo_original:\n",
        "    conteudo = arquivo_original.read()\n",
        "\n",
        "conteudo_novo = conteudo.replace('mundo', 'Python')\n",
        "\n",
        "with open('modificado.txt', 'w') as arquivo_novo:\n",
        "   arquivo_novo.write(conteudo_novo)"
      ],
      "metadata": {
        "id": "6gBKvwagc7Ri"
      },
      "execution_count": null,
      "outputs": []
    },
    {
      "cell_type": "markdown",
      "source": [
        "8. Crie um programa que adicione a frase \"Isso é incrível!\" ao final do arquivo\n",
        "\"texto.txt\"."
      ],
      "metadata": {
        "id": "oYDlOYLfdj_3"
      }
    },
    {
      "cell_type": "code",
      "source": [
        "with open('texto.txt', 'a') as arquivo:\n",
        "    arquivo.write('\\nIsso é incrível!')"
      ],
      "metadata": {
        "id": "yDBGUm21dkQi"
      },
      "execution_count": null,
      "outputs": []
    },
    {
      "cell_type": "markdown",
      "source": [
        "9. Crie um programa que leia o conteúdo do arquivo \"texto.txt\" e conte quantas\n",
        "letras (excluindo espaços) estão presentes no texto."
      ],
      "metadata": {
        "id": "BnNJ16hcL-Sp"
      }
    },
    {
      "cell_type": "code",
      "source": [
        "with open('texto.txt', 'r') as arquivo:\n",
        "    conteudo = arquivo.read()\n",
        "numero_letras = len(conteudo.replace(' ', ''))\n",
        "print('O arquivo \"texto.txt\" contém', numero_letras, 'letras.')"
      ],
      "metadata": {
        "id": "KgKTlaXuL-jU"
      },
      "execution_count": null,
      "outputs": []
    },
    {
      "cell_type": "markdown",
      "source": [
        "10. Crie um programa que leia o conteúdo do arquivo \"numeros.txt\" (contendo\n",
        "números inteiros separados por vírgula), some esses números e exiba o\n",
        "resultado."
      ],
      "metadata": {
        "id": "1cUcks-iL-zi"
      }
    },
    {
      "cell_type": "code",
      "source": [
        "with open('numeros.txt', 'r') as arquivo:\n",
        "    conteudo = arquivo.read()\n",
        "numeros = conteudo.split(',')\n",
        "\n",
        "soma = sum(int(numero) for numero in numeros)\n",
        "\n",
        "print('A soma dos números no arquivo \"numeros.txt\" é', soma)"
      ],
      "metadata": {
        "id": "lTr7sFjsL_IG"
      },
      "execution_count": null,
      "outputs": []
    },
    {
      "cell_type": "markdown",
      "source": [
        "11. Faça um programa que leia um arquivo texto contendo uma lista de endereços IP\n",
        "e gere um outro arquivo, contendo um relatório dos endereços IP válidos e\n",
        "inválidos.\n",
        "O arquivo de entrada possui o seguinte formato:"
      ],
      "metadata": {
        "id": "gNcQDrO2OMP_"
      }
    },
    {
      "cell_type": "code",
      "source": [
        "ips_validos = open(\"ips_validos.txt\", \"w\")\n",
        "\n",
        "with open(\"ips.txt\", \"r\") as ips:\n",
        "  for ip in ips.readlines():\n",
        "    if len(ip.split(\".\")) != 4 or max([int(n) for n in ip.split(\".\")]) > 255:\n",
        "      ips_validos.write(\"[Endereços inválidos:]\\n\")\n",
        "    else:\n",
        "      ips_validos.write(ip)\n",
        "\n",
        "ips_validos.close()\n",
        "\n",
        "with open(\"ips.txt\") as ips:\n",
        "  print(ips.read())\n",
        "\n",
        "with open(\"ips_validos.txt\") as ips:\n",
        "  print(ips.read())"
      ],
      "metadata": {
        "id": "TGR5PXsHOMl8"
      },
      "execution_count": null,
      "outputs": []
    },
    {
      "cell_type": "markdown",
      "source": [
        "def bytes_to_magabytes(num):\n",
        "  mega = float(num) / 1048576\n",
        "  return mega"
      ],
      "metadata": {
        "id": "sYHQ7OMd3-jz"
      }
    },
    {
      "cell_type": "markdown",
      "source": [
        "13. Crie um programa que leia um arquivo-texto e gere um arquivo de saída\n",
        "paginado. Cada linha não deve conter mais de 76 caracteres. Cada página terá no\n",
        "máximo 60 linhas. Adicione na última linha de cada página o número da página\n",
        "atual e o nome do arquivo original."
      ],
      "metadata": {
        "id": "nIYxF0SgOLJl"
      }
    },
    {
      "cell_type": "code",
      "source": [
        "def paginar_arquivo(nome_arquivo):\n",
        "    # Abrindo o arquivo original para leitura\n",
        "    with open(nome_arquivo, 'r') as arquivo_original:\n",
        "        linhas = arquivo_original.readlines()\n",
        "\n",
        "    # Abrindo o novo arquivo para escrita\n",
        "    with open('arquivo_paginado.txt', 'w') as novo_arquivo:\n",
        "        pagina = 1\n",
        "        for i in range(0, len(linhas), 60):\n",
        "            # Escrevendo no máximo 60 linhas por página\n",
        "            novo_arquivo.write('\\n'.join(linha[:76] for linha in linhas[i:i+60]))\n",
        "            # Adicionando o número da página e o nome do arquivo original\n",
        "            novo_arquivo.write('\\n\\nPágina ' + str(pagina) + ', ' + nome_arquivo + '\\n\\n')\n",
        "            pagina += 1\n",
        "\n",
        "paginar_arquivo('arquivo_original.txt')\n"
      ],
      "metadata": {
        "id": "10C8IMAwOLzA"
      },
      "execution_count": null,
      "outputs": []
    },
    {
      "cell_type": "markdown",
      "source": [
        "14. Crie um programa que leia um arquivo-texto e elimine os espaços repetidos entre\n",
        "as palavras e o fim das linhas. O arquivo de saída também não deve ter mais de\n",
        "uma linha em branco repetida."
      ],
      "metadata": {
        "id": "8sh28Q4RMiD9"
      }
    },
    {
      "cell_type": "code",
      "source": [
        "import re\n",
        "\n",
        "with open('arquivo_original.txt', 'r') as arquivo_original:\n",
        "    conteudo = arquivo_original.read()\n",
        "\n",
        "novo_conteudo = re.sub(' +', ' ', conteudo)\n",
        "novo_conteudo = re.sub('\\n+', '\\n', novo_conteudo)\n",
        "\n",
        "with open('arquivo_modificado.txt', 'w') as novo_arquivo:\n",
        "    novo_arquivo.write(novo_conteudo)"
      ],
      "metadata": {
        "id": "xDuAKTJINjcQ"
      },
      "execution_count": null,
      "outputs": []
    }
  ]
}